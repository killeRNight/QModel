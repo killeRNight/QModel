{
 "cells": [
  {
   "cell_type": "markdown",
   "metadata": {},
   "source": [
    "## QModel\n",
    "\n",
    "* by Ainur Kazykhanov"
   ]
  },
  {
   "cell_type": "markdown",
   "metadata": {},
   "source": [
    "### Import libraries "
   ]
  },
  {
   "cell_type": "code",
   "execution_count": 1,
   "metadata": {},
   "outputs": [],
   "source": [
    "from __future__ import print_function\n",
    "from sklearn.externals import joblib\n",
    "import pandas as pd\n",
    "import numpy as np\n",
    "import os\n",
    "import time\n",
    "import warnings\n",
    "warnings.filterwarnings('ignore')"
   ]
  },
  {
   "cell_type": "markdown",
   "metadata": {},
   "source": [
    "### Import classes"
   ]
  },
  {
   "cell_type": "code",
   "execution_count": 2,
   "metadata": {},
   "outputs": [
    {
     "name": "stderr",
     "output_type": "stream",
     "text": [
      "Using TensorFlow backend.\n"
     ]
    }
   ],
   "source": [
    "from data_fn import Data\n",
    "from alpha_fn import Alpha\n",
    "from fit_fn import Fit\n",
    "from simulation_fn import Simulation\n",
    "from evaluation_fn import Evaluation"
   ]
  },
  {
   "cell_type": "markdown",
   "metadata": {},
   "source": [
    "## Description"
   ]
  },
  {
   "cell_type": "markdown",
   "metadata": {},
   "source": [
    "* Chosen strategy works with daily data and rebalance portfolio every day at market open.\n",
    "* Model trains on historical data and returns predictions of every day close price.\n",
    "* Core model consists of two neural networks working with different sets of targets aimed to predict single value and sequences.\n",
    "* Final prediction is a linear combination of these two predictions."
   ]
  },
  {
   "cell_type": "markdown",
   "metadata": {},
   "source": [
    "## Assumptions"
   ]
  },
  {
   "cell_type": "markdown",
   "metadata": {},
   "source": [
    "- The configuration for the model was found after a little trial and error and is by no means optimized! Calibrating the model parameters is a long journey. Anyway current set of parameters does not 'suffer' a lot from high bias / high variance."
   ]
  },
  {
   "cell_type": "markdown",
   "metadata": {},
   "source": [
    "## Config"
   ]
  },
  {
   "cell_type": "markdown",
   "metadata": {},
   "source": [
    "* __options.ini__ file with all necessary parameters stored in 'data/' folder.\n",
    "* __copy__ in 'data/config_copy/'."
   ]
  },
  {
   "cell_type": "markdown",
   "metadata": {},
   "source": [
    "## Data"
   ]
  },
  {
   "cell_type": "markdown",
   "metadata": {},
   "source": [
    "__Brief description:__\n",
    "* Pre-process given raw data and converts it to data object containing data matrices of following format (stocks * days)."
   ]
  },
  {
   "cell_type": "markdown",
   "metadata": {},
   "source": [
    "__Prepare data:__\n",
    "* Resample given data to 1-day format.\n",
    "* Select only following stocks:\n",
    "    * enough data for analysis.\n",
    "    * maximum gap length is 1.\n",
    "    * have information about corporate events.\n",
    "    * company corporate events actual history do not include chosen events.\n",
    "* Get EPS events.\n",
    "* Get Dividend events.\n",
    "* Get sector codes.\n",
    "* Adjust data on stock splits and dividends."
   ]
  },
  {
   "cell_type": "code",
   "execution_count": 3,
   "metadata": {},
   "outputs": [
    {
     "name": "stdout",
     "output_type": "stream",
     "text": [
      "Prepare data: \n",
      "  stocks: 662 (start)\n",
      "  stocks: 447 (end)\n",
      "data completed.\n"
     ]
    }
   ],
   "source": [
    "# Convert raw data to required format.\n",
    "# : input: given raw data.\n",
    "# : return: -\n",
    "# : store: save data object to disk.\n",
    "Data().prepare_data()"
   ]
  },
  {
   "cell_type": "markdown",
   "metadata": {},
   "source": [
    "## Alpha"
   ]
  },
  {
   "cell_type": "markdown",
   "metadata": {},
   "source": [
    "__Brief description:__\n",
    "* Derive alphas from given data."
   ]
  },
  {
   "cell_type": "markdown",
   "metadata": {},
   "source": [
    "__Alphas list:__\n",
    "1.  __A__: adv\n",
    "2.  __A__: open p. momentum (1d)\n",
    "3.  __A__: high p. momentum (1d)\n",
    "4.  __A__: low p. momentum (1d)\n",
    "5.  __A__: close p. momentum (1d)\n",
    "6.  __A__: momentum (3d)\n",
    "7.  __A__: momentum (10d)\n",
    "8.  __A__: momentum (21d)\n",
    "9.  __A__: momentum (70d)\n",
    "10. __A__: momentum (130d)\n",
    "11. __A__: sma (7d)\n",
    "12. __A__: sma (21d)\n",
    "13. __A__: macd\n",
    "14. __A__: bollinger bands\n",
    "15. __A__: standard deviation\n",
    "16. __A__: information ratio\n",
    "17. __A__: iqr\n",
    "18. __A__: 10% percentile\n",
    "19. __A__: 25% percentile\n",
    "20. __A__: 75% percentile\n",
    "21. __A__: 90% percentile\n",
    "22. __A__: positive cross count\n",
    "23. __A__: negative cross count\n",
    "24. __A__: median return\n",
    "25. __A__: mean return (3d)\n",
    "26. __A__: mean return (5d)\n",
    "27. __A__: mean return (10d)\n",
    "28. __A__: mean return (21d)\n",
    "29. __A__: mean reversion (3d)\n",
    "30. __A__: mean reversion (5d)\n",
    "31. __A__: mean reversion (10d)\n",
    "32. __A__: mean reversion (21d)\n",
    "33. __A__: dividends regular cash yield constant\n",
    "34. __A__: dividends regular cash yield relative\n",
    "35. __A__: dividends special cash yield constant\n",
    "36. __A__: dividends special cash yield relative\n",
    "37. __A__: eps earnings yield constant\n",
    "38. __A__: eps earnings yield relative\n",
    "39. __A__: eps earnings-estimate yield constant\n",
    "40. __A__: eps earnings-estimate yield relative\n",
    "41. __A__: eps earnings-comparable yield constant\n",
    "42. __A__: eps earnings-comparable yield relative\n",
    "43. __E__: dividends regular\n",
    "44. __E__: dividends special\n",
    "45. __E__: eps earnings\n",
    "46. __E__: eps comparable\n",
    "47. __E__: eps estimate\n",
    "48. __T__: original data\n",
    "49. __T__: wavelet transform"
   ]
  },
  {
   "cell_type": "markdown",
   "metadata": {},
   "source": [
    "__WARNING!__ \n",
    "__It takes a lot of time.__"
   ]
  },
  {
   "cell_type": "code",
   "execution_count": null,
   "metadata": {},
   "outputs": [],
   "source": [
    "# Create alphas.\n",
    "# : input: data object.\n",
    "# : return: -\n",
    "# : store: save alphas to disk.\n",
    "Alpha().run_alphas()"
   ]
  },
  {
   "cell_type": "markdown",
   "metadata": {},
   "source": [
    "## Fit"
   ]
  },
  {
   "cell_type": "markdown",
   "metadata": {},
   "source": [
    "__Brief description:__\n",
    "* Train the model on given set of alphas-labels and return predictions on each day."
   ]
  },
  {
   "cell_type": "markdown",
   "metadata": {},
   "source": [
    "__Prepare data:__\n",
    "- Feature Eng: \n",
    "    - d-SAE model extracts high level deep features from given alpha matrix.\n",
    "- Feature selection: \n",
    "    - gBoosting based feature importance filter drops irrelevant features.\n",
    "- Stacking (alpha): \n",
    "    - add events to alpha matrix.\n",
    "- Stacking (alpha): \n",
    "    - bayesian ridge model predicts target values and stack predictions to alpha matrix. \n",
    "- Stacking (target): \n",
    "    - add two more days to target matrix (original).\n",
    "- Stacking (target): \n",
    "    - add total return (3 days) to target values (original)."
   ]
  },
  {
   "cell_type": "markdown",
   "metadata": {},
   "source": [
    "__Model:__\n",
    "* __ALPHA:__ \n",
    "    * 2-rRNet w/ DeepConv features in pair with Seq2Seq DeepConv-GRU predict '3 day+total' and '3 day' returns.  \n",
    "* __BETA:__ \n",
    "    * 2-rRNet in pair with Feature Pyramid Network predict '1 day' return.  "
   ]
  },
  {
   "cell_type": "markdown",
   "metadata": {},
   "source": [
    "__Prediction:__\n",
    "* Predictions are made using MC Dropout sampling and weighting sequence predictions together with single day forecasts."
   ]
  },
  {
   "cell_type": "markdown",
   "metadata": {},
   "source": [
    "__Details__:\n",
    "- First training (general): \n",
    "    - general + fine tuning of all layers. \n",
    "- Transfer learning (if activated): \n",
    "    - transfer learning with newly initialized last layers + fine tuning of all layers + freezing.\n",
    "    - model freeze selected layers for a certain period of time specified in options.ini, after a given period layers become trainable again."
   ]
  },
  {
   "cell_type": "markdown",
   "metadata": {},
   "source": [
    "__WARNING!__\n",
    "__It takes a lot of time.__"
   ]
  },
  {
   "cell_type": "code",
   "execution_count": null,
   "metadata": {
    "scrolled": true
   },
   "outputs": [],
   "source": [
    "# Fit the model.\n",
    "# : input: data object and alphas.\n",
    "# : return: predicted positions matrix\n",
    "# : store: save predictions to disk.\n",
    "positions_strategy = Fit().run_model()"
   ]
  },
  {
   "cell_type": "markdown",
   "metadata": {},
   "source": [
    "## Simulation"
   ]
  },
  {
   "cell_type": "markdown",
   "metadata": {},
   "source": [
    "__Brief description:__\n",
    "* PnL modeling on day to day basis."
   ]
  },
  {
   "cell_type": "markdown",
   "metadata": {},
   "source": [
    "__Prepare data:__\n",
    "* Balancing long-short positions.\n",
    "* Slowing down trading applying basic smoothing.\n",
    "* Industry neutralization.\n",
    "* Selecting N best stocks in both directions."
   ]
  },
  {
   "cell_type": "markdown",
   "metadata": {},
   "source": [
    "__Details:__\n",
    "* Commissions: Interactive Brokers.\n",
    "* Price Slippage: None"
   ]
  },
  {
   "cell_type": "markdown",
   "metadata": {},
   "source": [
    "__Assumptions:__\n",
    "* No borrowing costs.\n",
    "* No cash borrowing for long positions.\n",
    "* Immediate trade settlement."
   ]
  },
  {
   "cell_type": "code",
   "execution_count": 3,
   "metadata": {},
   "outputs": [],
   "source": [
    "# Load positions matrix.\n",
    "positions_strategy = joblib.load('data/pp_data/positions/positions.pickle')"
   ]
  },
  {
   "cell_type": "code",
   "execution_count": null,
   "metadata": {},
   "outputs": [],
   "source": [
    "# Run simulation\n",
    "# : input: predicted positions matrix\n",
    "# : return: sim object\n",
    "# : store: -\n",
    "strategy = Simulation(positions_strategy).run_simulation()"
   ]
  },
  {
   "cell_type": "markdown",
   "metadata": {},
   "source": [
    "## Evaluation"
   ]
  },
  {
   "cell_type": "markdown",
   "metadata": {},
   "source": [
    "__Brief description:__\n",
    "* Show results and basic performance metrics compared to SP500."
   ]
  },
  {
   "cell_type": "code",
   "execution_count": 5,
   "metadata": {},
   "outputs": [
    {
     "name": "stdout",
     "output_type": "stream",
     "text": [
      "\n",
      "Evaluation started:\n",
      "  report saved\n",
      "  evaluation completed\n"
     ]
    },
    {
     "data": {
      "image/png": "[encoded data removed]",
      "text/plain": [
       "<matplotlib.figure.Figure at 0x235a4ee4fd0>"
      ]
     },
     "metadata": {},
     "output_type": "display_data"
    }
   ],
   "source": [
    "# Show strategy performance.\n",
    "# : input: sim object.\n",
    "# : return: plot results\n",
    "# : store: save report.xlsx (data/pp_data/sim_res/)\n",
    "Evaluation(strategy).run_evaluation(save_report=True)"
   ]
  }
 ],
 "metadata": {
  "kernelspec": {
   "display_name": "Python 3",
   "language": "python",
   "name": "python3"
  },
  "language_info": {
   "codemirror_mode": {
    "name": "ipython",
    "version": 3
   },
   "file_extension": ".py",
   "mimetype": "text/x-python",
   "name": "python",
   "nbconvert_exporter": "python",
   "pygments_lexer": "ipython3",
   "version": "3.7.3"
  }
 },
 "nbformat": 4,
 "nbformat_minor": 2
}
