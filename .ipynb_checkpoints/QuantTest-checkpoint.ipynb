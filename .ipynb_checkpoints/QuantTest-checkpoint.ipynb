{
 "cells": [
  {
   "cell_type": "markdown",
   "metadata": {},
   "source": [
    "# QBF\n",
    "## Quant test task\n",
    "\n",
    "* by Ainur Kazykhanov"
   ]
  },
  {
   "cell_type": "markdown",
   "metadata": {},
   "source": [
    "### Import libraries "
   ]
  },
  {
   "cell_type": "code",
   "execution_count": 1,
   "metadata": {},
   "outputs": [],
   "source": [
    "from __future__ import print_function\n",
    "from sklearn.externals import joblib\n",
    "import pandas as pd\n",
    "import numpy as np\n",
    "import os\n",
    "import time\n",
    "import warnings\n",
    "warnings.filterwarnings('ignore')"
   ]
  },
  {
   "cell_type": "markdown",
   "metadata": {},
   "source": [
    "### Import classes"
   ]
  },
  {
   "cell_type": "code",
   "execution_count": 5,
   "metadata": {},
   "outputs": [],
   "source": [
    "from data_fn import Data\n",
    "from alpha_fn import Alpha\n",
    "from fit_fn import Fit\n",
    "from simulation_fn import Simulation\n",
    "from evaluation_fn import Evaluation"
   ]
  },
  {
   "cell_type": "markdown",
   "metadata": {},
   "source": [
    "## Description"
   ]
  },
  {
   "cell_type": "markdown",
   "metadata": {},
   "source": [
    "* Chosen strategy works with daily data and rebalance portfolio every day at market open.\n",
    "* Model trains on historical data and returns predictions of every day close price.\n",
    "* Core model consists of two neural networks working with different sets of targets aimed to predict single value and sequences.\n",
    "* Final prediction is a linear combination of these two predictions."
   ]
  },
  {
   "cell_type": "markdown",
   "metadata": {},
   "source": [
    "## Assumptions"
   ]
  },
  {
   "cell_type": "markdown",
   "metadata": {},
   "source": [
    "- The configuration for the model was found after a little trial and error and is by no means optimized! Calibrating the model parameters is a long journey. Anyway current set of parameters does not 'suffer' a lot from high bias / high variance.\n",
    "- Current simulation does not include short positions. Long only."
   ]
  },
  {
   "cell_type": "markdown",
   "metadata": {},
   "source": [
    "## Config"
   ]
  },
  {
   "cell_type": "markdown",
   "metadata": {},
   "source": [
    "* __options.ini__ file with all necessary parameters stored in 'data/' folder.\n",
    "* __copy__ in 'data/config_copy/'."
   ]
  },
  {
   "cell_type": "markdown",
   "metadata": {},
   "source": [
    "## Data"
   ]
  },
  {
   "cell_type": "markdown",
   "metadata": {},
   "source": [
    "__Brief description:__\n",
    "* Pre-process given raw data and converts it to data object containing data matrices of following format (stocks * days)."
   ]
  },
  {
   "cell_type": "markdown",
   "metadata": {},
   "source": [
    "__Prepare data:__\n",
    "* Resample given data to 1-day format.\n",
    "* Select only following stocks:\n",
    "    * enough data for analysis.\n",
    "    * maximum gap length is 1.\n",
    "    * have information about corporate events.\n",
    "    * company corporate events actual history do not include chosen events.\n",
    "* Get EPS events.\n",
    "* Get Dividend events.\n",
    "* Get sector codes.\n",
    "* Adjust data on stock splits and dividends."
   ]
  },
  {
   "cell_type": "markdown",
   "metadata": {},
   "source": [
    "__WARNING!__ \n",
    "__It takes a lot of time.__"
   ]
  },
  {
   "cell_type": "code",
   "execution_count": 3,
   "metadata": {},
   "outputs": [
    {
     "name": "stdout",
     "output_type": "stream",
     "text": [
      "Prepare data: \n",
      "  stocks: 662 (start)\n",
      "  stocks: 447 (end)\n",
      "data completed.\n"
     ]
    }
   ],
   "source": [
    "# Convert raw data to required format.\n",
    "# : input: given raw data.\n",
    "# : return: -\n",
    "# : store: save data object to disk.\n",
    "Data().prepare_data()"
   ]
  },
  {
   "cell_type": "markdown",
   "metadata": {},
   "source": [
    "## Alpha"
   ]
  },
  {
   "cell_type": "markdown",
   "metadata": {},
   "source": [
    "__Brief description:__\n",
    "* Derive alphas from given data."
   ]
  },
  {
   "cell_type": "markdown",
   "metadata": {},
   "source": [
    "__Alphas list:__\n",
    "1.  __A__: adv\n",
    "2.  __A__: open p. momentum (1d)\n",
    "3.  __A__: high p. momentum (1d)\n",
    "4.  __A__: low p. momentum (1d)\n",
    "5.  __A__: close p. momentum (1d)\n",
    "6.  __A__: momentum (3d)\n",
    "7.  __A__: momentum (10d)\n",
    "8.  __A__: momentum (21d)\n",
    "9.  __A__: momentum (70d)\n",
    "10. __A__: momentum (130d)\n",
    "11. __A__: sma (7d)\n",
    "12. __A__: sma (21d)\n",
    "13. __A__: macd\n",
    "14. __A__: bollinger bands\n",
    "15. __A__: standard deviation\n",
    "16. __A__: information ratio\n",
    "17. __A__: iqr\n",
    "18. __A__: 10% percentile\n",
    "19. __A__: 25% percentile\n",
    "20. __A__: 75% percentile\n",
    "21. __A__: 90% percentile\n",
    "22. __A__: positive cross count\n",
    "23. __A__: negative cross count\n",
    "24. __A__: median return\n",
    "25. __A__: mean return (3d)\n",
    "26. __A__: mean return (5d)\n",
    "27. __A__: mean return (10d)\n",
    "28. __A__: mean return (21d)\n",
    "29. __A__: mean reversion (3d)\n",
    "30. __A__: mean reversion (5d)\n",
    "31. __A__: mean reversion (10d)\n",
    "32. __A__: mean reversion (21d)\n",
    "33. __A__: dividends regular cash yield constant\n",
    "34. __A__: dividends regular cash yield relative\n",
    "35. __A__: dividends special cash yield constant\n",
    "36. __A__: dividends special cash yield relative\n",
    "37. __A__: eps earnings yield constant\n",
    "38. __A__: eps earnings yield relative\n",
    "39. __A__: eps earnings-estimate yield constant\n",
    "40. __A__: eps earnings-estimate yield relative\n",
    "41. __A__: eps earnings-comparable yield constant\n",
    "42. __A__: eps earnings-comparable yield relative\n",
    "43. __E__: dividends regular\n",
    "44. __E__: dividends special\n",
    "45. __E__: eps earnings\n",
    "46. __E__: eps comparable\n",
    "47. __E__: eps estimate\n",
    "48. __T__: original data\n",
    "49. __T__: wavelet transform"
   ]
  },
  {
   "cell_type": "markdown",
   "metadata": {},
   "source": [
    "__WARNING!__ \n",
    "__It takes a lot of time.__"
   ]
  },
  {
   "cell_type": "code",
   "execution_count": 4,
   "metadata": {},
   "outputs": [
    {
     "name": "stdout",
     "output_type": "stream",
     "text": [
      "\n",
      "Create alphas|events|tensors:\n",
      "  building tensor: open...\n",
      "  tensor done: open\n",
      "  building tensor: high...\n",
      "  tensor done: high\n",
      "  building tensor: low...\n",
      "  tensor done: low\n",
      "  building tensor: close...\n",
      "  tensor done: close\n",
      "  building tensor: adv...\n",
      "  tensor done: adv\n",
      "  alphas: 47\n",
      "alphas completed\n"
     ]
    }
   ],
   "source": [
    "# Create alphas.\n",
    "# : input: data object.\n",
    "# : return: -\n",
    "# : store: save alphas to disk.\n",
    "Alpha().run_alphas()"
   ]
  },
  {
   "cell_type": "markdown",
   "metadata": {},
   "source": [
    "## Fit"
   ]
  },
  {
   "cell_type": "markdown",
   "metadata": {},
   "source": [
    "__Brief description:__\n",
    "* Train the model on given set of alphas-labels and return predictions on each day."
   ]
  },
  {
   "cell_type": "markdown",
   "metadata": {},
   "source": [
    "__Prepare data:__\n",
    "- Feature Eng: \n",
    "    - d-SAE model extracts high level deep features from given alpha matrix.\n",
    "- Feature selection: \n",
    "    - gBoosting based feature importance filter drops irrelevant features.\n",
    "- Stacking (alpha): \n",
    "    - add events to alpha matrix.\n",
    "- Stacking (alpha): \n",
    "    - bayesian ridge model predicts target values and stack predictions to alpha matrix. \n",
    "- Stacking (target): \n",
    "    - add two more days to target matrix (original).\n",
    "- Stacking (target): \n",
    "    - add total return (3 days) to target values (original)."
   ]
  },
  {
   "cell_type": "markdown",
   "metadata": {},
   "source": [
    "__Model:__\n",
    "* __ALPHA:__ \n",
    "    * 2-rRNet w/ DeepConv features in pair with Seq2Seq DeepConv-GRU predict '3 day+total' and '3 day' returns.  \n",
    "* __BETA:__ \n",
    "    * 2-rRNet in pair with Feature Pyramid Network predict '1 day' return.  "
   ]
  },
  {
   "cell_type": "markdown",
   "metadata": {},
   "source": [
    "__Prediction:__\n",
    "* Predictions are made using MC Dropout sampling and weighting sequence predictions together with single day forecasts."
   ]
  },
  {
   "cell_type": "markdown",
   "metadata": {},
   "source": [
    "__Details__:\n",
    "- First training (general): \n",
    "    - general + fine tuning of all layers. \n",
    "- Transfer learning (if activated): \n",
    "    - transfer learning with newly initialized last layers + fine tuning of all layers + freezing.\n",
    "    - model freeze selected layers for a certain period of time specified in options.ini, after a given period layers become trainable again."
   ]
  },
  {
   "cell_type": "markdown",
   "metadata": {},
   "source": [
    "__WARNING!__\n",
    "__It takes a lot of time.__"
   ]
  },
  {
   "cell_type": "code",
   "execution_count": 4,
   "metadata": {
    "scrolled": true
   },
   "outputs": [
    {
     "name": "stdout",
     "output_type": "stream",
     "text": [
      "\n",
      "Fit model:\n",
      "Days available: 2037\n",
      "Data size: 1.93Gb\n",
      "\n",
      "  Fitting on 20160104\n",
      "      vars. loaded\n",
      "          autoencoder trained\n",
      "          gradient boosting regression trained\n",
      "          bayesian ridge regression trained\n",
      "      pre-model phase completed\n",
      "      training neural network - ALPHA\n",
      "Epoch 1/8\n",
      " - 13s - loss: 2.2291 - dense_14_loss: 2.1024 - dense_15_loss: 1.0147\n",
      "Epoch 2/8\n",
      " - 7s - loss: 1.7247 - dense_14_loss: 1.5912 - dense_15_loss: 1.0094\n",
      "Epoch 3/8\n",
      " - 7s - loss: 1.5947 - dense_14_loss: 1.5703 - dense_15_loss: 1.0079\n",
      "Epoch 4/8\n",
      " - 7s - loss: 1.5105 - dense_14_loss: 1.5560 - dense_15_loss: 1.0066\n",
      "Epoch 5/8\n",
      " - 7s - loss: 1.4638 - dense_14_loss: 1.5499 - dense_15_loss: 1.0058\n",
      "Epoch 6/8\n",
      " - 7s - loss: 1.4300 - dense_14_loss: 1.5412 - dense_15_loss: 1.0047\n",
      "Epoch 7/8\n",
      " - 7s - loss: 1.4094 - dense_14_loss: 1.5349 - dense_15_loss: 1.0037\n",
      "Epoch 8/8\n",
      " - 7s - loss: 1.3970 - dense_14_loss: 1.5313 - dense_15_loss: 1.0028\n",
      "Epoch 1/2\n",
      " - 6s - loss: 1.3929 - dense_14_loss: 1.5314 - dense_15_loss: 1.0063\n",
      "Epoch 2/2\n",
      " - 6s - loss: 1.3873 - dense_14_loss: 1.5295 - dense_15_loss: 1.0054\n",
      "Epoch 1/2\n",
      " - 1s - loss: 1.4303 - dense_14_loss: 1.5821 - dense_15_loss: 1.0309\n",
      "Epoch 2/2\n",
      " - 1s - loss: 1.4228 - dense_14_loss: 1.5720 - dense_15_loss: 1.0314\n",
      "Epoch 1/2\n",
      " - 4s - loss: 1.3457 - dense_14_loss: 1.4900 - dense_15_loss: 0.9476\n",
      "Epoch 2/2\n",
      " - 4s - loss: 1.3444 - dense_14_loss: 1.4812 - dense_15_loss: 0.9438\n",
      "      training neural network - BETA\n",
      "Epoch 1/8\n",
      " - 56s - loss: 1.6327\n",
      "Epoch 2/8\n",
      " - 54s - loss: 1.1736\n",
      "Epoch 3/8\n",
      " - 70s - loss: 1.0340\n",
      "Epoch 4/8\n",
      " - 63s - loss: 0.9538\n",
      "Epoch 5/8\n",
      " - 65s - loss: 0.9091\n",
      "Epoch 6/8\n",
      " - 61s - loss: 0.8831\n",
      "Epoch 7/8\n",
      " - 60s - loss: 0.8704\n",
      "Epoch 8/8\n",
      " - 63s - loss: 0.8605\n",
      "Epoch 1/2\n",
      " - 59s - loss: 0.8515\n",
      "Epoch 2/2\n",
      " - 55s - loss: 0.8501\n",
      "Epoch 1/2\n",
      " - 10s - loss: 0.8808\n",
      "Epoch 2/2\n",
      " - 13s - loss: 0.8792\n",
      "Epoch 1/2\n",
      " - 39s - loss: 0.6751\n",
      "Epoch 2/2\n",
      " - 36s - loss: 0.6019\n",
      "      model trained and saved\n",
      "\n",
      "  Fitting on 20160527\n",
      "      vars. loaded\n",
      "          autoencoder trained\n",
      "          gradient boosting regression trained\n",
      "          bayesian ridge regression trained\n",
      "      pre-model phase completed\n",
      "      training neural network - ALPHA (transfer learning)\n",
      "          freeze layers\n",
      "             conv1d_1\n",
      "             dense_8\n",
      "             dense_11\n",
      "Epoch 1/8\n",
      " - 15s - loss: 1.6313 - dense_28_loss: 1.8089 - dense_29_loss: 1.1346\n",
      "Epoch 2/8\n",
      " - 10s - loss: 1.5504 - dense_28_loss: 1.7111 - dense_29_loss: 1.1311\n",
      "Epoch 3/8\n",
      " - 11s - loss: 1.5425 - dense_28_loss: 1.7043 - dense_29_loss: 1.1300\n",
      "Epoch 4/8\n",
      " - 11s - loss: 1.5401 - dense_28_loss: 1.7025 - dense_29_loss: 1.1297\n",
      "Epoch 5/8\n",
      " - 11s - loss: 1.5406 - dense_28_loss: 1.7031 - dense_29_loss: 1.1297\n",
      "Epoch 6/8\n",
      " - 10s - loss: 1.5384 - dense_28_loss: 1.7007 - dense_29_loss: 1.1292\n",
      "Epoch 7/8\n",
      " - 10s - loss: 1.5371 - dense_28_loss: 1.6989 - dense_29_loss: 1.1294\n",
      "Epoch 8/8\n",
      " - 9s - loss: 1.5367 - dense_28_loss: 1.6993 - dense_29_loss: 1.1291\n",
      "Epoch 1/2\n",
      " - 8s - loss: 1.5922 - dense_28_loss: 1.7598 - dense_29_loss: 1.1661\n",
      "Epoch 2/2\n",
      " - 8s - loss: 1.5899 - dense_28_loss: 1.7590 - dense_29_loss: 1.1660\n",
      "Epoch 1/2\n",
      " - 2s - loss: 1.5351 - dense_28_loss: 1.6969 - dense_29_loss: 1.1205\n",
      "Epoch 2/2\n",
      " - 2s - loss: 1.5282 - dense_28_loss: 1.6910 - dense_29_loss: 1.1236\n",
      "Epoch 1/2\n",
      " - 4s - loss: 1.5202 - dense_28_loss: 1.6881 - dense_29_loss: 1.0762\n",
      "Epoch 2/2\n",
      " - 4s - loss: 1.5099 - dense_28_loss: 1.6654 - dense_29_loss: 1.0648\n",
      "      training neural network - BETA (transfer learning)\n",
      "          freeze layers\n",
      "             conv2d_1\n",
      "             dense_17\n",
      "             dense_20\n",
      "Epoch 1/8\n",
      " - 69s - loss: 0.8364\n",
      "Epoch 2/8\n",
      " - 71s - loss: 0.8318\n",
      "Epoch 3/8\n",
      " - 59s - loss: 0.8308\n",
      "Epoch 4/8\n",
      " - 65s - loss: 0.8306\n",
      "Epoch 5/8\n",
      " - 68s - loss: 0.8304\n",
      "Epoch 6/8\n",
      " - 57s - loss: 0.8286\n",
      "Epoch 7/8\n",
      " - 64s - loss: 0.8286\n",
      "Epoch 8/8\n",
      " - 61s - loss: 0.8288\n",
      "Epoch 1/2\n",
      " - 62s - loss: 0.8280\n",
      "Epoch 2/2\n",
      " - 61s - loss: 0.8267\n",
      "Epoch 1/2\n",
      " - 10s - loss: 0.8451\n",
      "Epoch 2/2\n",
      " - 12s - loss: 0.8438\n",
      "Epoch 1/2\n",
      " - 33s - loss: 0.6410\n",
      "Epoch 2/2\n",
      " - 34s - loss: 0.5835\n",
      "      model trained and saved\n",
      "\n",
      "  Fitting on 20161020\n",
      "      vars. loaded\n",
      "          autoencoder trained\n",
      "          gradient boosting regression trained\n",
      "          bayesian ridge regression trained\n",
      "      pre-model phase completed\n",
      "      training neural network - ALPHA (transfer learning)\n",
      "          un-freeze layers\n",
      "Epoch 1/8\n",
      " - 14s - loss: 1.6317 - dense_35_loss: 1.7901 - dense_36_loss: 1.1783\n",
      "Epoch 2/8\n",
      " - 7s - loss: 1.6112 - dense_35_loss: 1.7690 - dense_36_loss: 1.1677\n",
      "Epoch 3/8\n",
      " - 7s - loss: 1.6102 - dense_35_loss: 1.7686 - dense_36_loss: 1.1669\n",
      "Epoch 4/8\n",
      " - 9s - loss: 1.6088 - dense_35_loss: 1.7666 - dense_36_loss: 1.1667\n",
      "Epoch 5/8\n",
      " - 8s - loss: 1.6082 - dense_35_loss: 1.7663 - dense_36_loss: 1.1660\n",
      "Epoch 6/8\n",
      " - 9s - loss: 1.6084 - dense_35_loss: 1.7667 - dense_36_loss: 1.1661\n",
      "Epoch 7/8\n",
      " - 8s - loss: 1.6078 - dense_35_loss: 1.7661 - dense_36_loss: 1.1657\n",
      "Epoch 8/8\n",
      " - 8s - loss: 1.6081 - dense_35_loss: 1.7666 - dense_36_loss: 1.1657\n",
      "Epoch 1/2\n",
      " - 8s - loss: 1.6332 - dense_35_loss: 1.7938 - dense_36_loss: 1.1852\n",
      "Epoch 2/2\n",
      " - 8s - loss: 1.6324 - dense_35_loss: 1.7932 - dense_36_loss: 1.1846\n",
      "Epoch 1/2\n",
      " - 2s - loss: 1.5652 - dense_35_loss: 1.7186 - dense_36_loss: 1.1367\n",
      "Epoch 2/2\n",
      " - 1s - loss: 1.5647 - dense_35_loss: 1.7187 - dense_36_loss: 1.1342\n",
      "Epoch 1/2\n",
      " - 4s - loss: 1.5892 - dense_35_loss: 1.7468 - dense_36_loss: 1.1215\n",
      "Epoch 2/2\n",
      " - 4s - loss: 1.5653 - dense_35_loss: 1.7211 - dense_36_loss: 1.0934\n",
      "      training neural network - BETA (transfer learning)\n",
      "          un-freeze layers\n",
      "Epoch 1/8\n",
      " - 62s - loss: 0.8721\n",
      "Epoch 2/8\n",
      " - 55s - loss: 0.8444\n",
      "Epoch 3/8\n",
      " - 54s - loss: 0.8434\n",
      "Epoch 4/8\n",
      " - 53s - loss: 0.8421\n",
      "Epoch 5/8\n",
      " - 56s - loss: 0.8427\n",
      "Epoch 6/8\n",
      " - 56s - loss: 0.8425\n",
      "Epoch 7/8\n",
      " - 68s - loss: 0.8429\n",
      "Epoch 8/8\n",
      " - 67s - loss: 0.8424\n",
      "Epoch 1/2\n",
      " - 53s - loss: 0.8409\n",
      "Epoch 2/2\n",
      " - 50s - loss: 0.8408\n",
      "Epoch 1/2\n",
      " - 9s - loss: 0.8504\n",
      "Epoch 2/2\n",
      " - 9s - loss: 0.8491\n",
      "Epoch 1/2\n",
      " - 29s - loss: 0.6205\n",
      "Epoch 2/2\n",
      " - 33s - loss: 0.5333\n",
      "      model trained and saved\n",
      "\n",
      "  Fitting on 20170317\n",
      "      vars. loaded\n",
      "          autoencoder trained\n",
      "          gradient boosting regression trained\n",
      "          bayesian ridge regression trained\n",
      "      pre-model phase completed\n",
      "      training neural network - ALPHA (transfer learning)\n",
      "          freeze layers\n",
      "             conv1d_1\n",
      "             dense_8\n",
      "             dense_11\n",
      "Epoch 1/8\n",
      " - 14s - loss: 1.6931 - dense_42_loss: 1.8656 - dense_43_loss: 1.2225\n",
      "Epoch 2/8\n",
      " - 8s - loss: 1.6630 - dense_42_loss: 1.8328 - dense_43_loss: 1.2171\n",
      "Epoch 3/8\n",
      " - 8s - loss: 1.6645 - dense_42_loss: 1.8336 - dense_43_loss: 1.2163\n",
      "Epoch 4/8\n",
      " - 8s - loss: 1.6655 - dense_42_loss: 1.8371 - dense_43_loss: 1.2154\n",
      "Epoch 5/8\n",
      " - 9s - loss: 1.6430 - dense_42_loss: 1.8123 - dense_43_loss: 1.2135\n",
      "Epoch 6/8\n",
      " - 9s - loss: 1.6362 - dense_42_loss: 1.8060 - dense_43_loss: 1.2128\n",
      "Epoch 7/8\n",
      " - 9s - loss: 1.6368 - dense_42_loss: 1.8070 - dense_43_loss: 1.2120\n",
      "Epoch 8/8\n",
      " - 9s - loss: 1.6368 - dense_42_loss: 1.8076 - dense_43_loss: 1.2122\n",
      "Epoch 1/2\n",
      " - 9s - loss: 1.6793 - dense_42_loss: 1.8546 - dense_43_loss: 1.2433\n",
      "Epoch 2/2\n",
      " - 7s - loss: 1.6805 - dense_42_loss: 1.8544 - dense_43_loss: 1.2428\n",
      "Epoch 1/2\n",
      " - 1s - loss: 1.5413 - dense_42_loss: 1.7045 - dense_43_loss: 1.1394\n",
      "Epoch 2/2\n",
      " - 1s - loss: 1.5369 - dense_42_loss: 1.6985 - dense_43_loss: 1.1408\n",
      "Epoch 1/2\n",
      " - 4s - loss: 1.6385 - dense_42_loss: 1.8047 - dense_43_loss: 1.1603\n",
      "Epoch 2/2\n",
      " - 4s - loss: 1.6570 - dense_42_loss: 1.8341 - dense_43_loss: 1.1398\n",
      "      training neural network - BETA (transfer learning)\n",
      "          freeze layers\n",
      "             conv2d_1\n",
      "             dense_17\n",
      "             dense_20\n",
      "Epoch 1/8\n",
      " - 67s - loss: 0.8366\n",
      "Epoch 2/8\n",
      " - 57s - loss: 0.8331\n",
      "Epoch 3/8\n",
      " - 58s - loss: 0.8320\n",
      "Epoch 4/8\n",
      " - 55s - loss: 0.8316\n",
      "Epoch 5/8\n",
      " - 57s - loss: 0.8305\n",
      "Epoch 6/8\n",
      " - 57s - loss: 0.8318\n",
      "Epoch 7/8\n",
      " - 62s - loss: 0.8305\n",
      "Epoch 8/8\n",
      " - 58s - loss: 0.8300\n",
      "Epoch 1/2\n",
      " - 53s - loss: 0.8319\n",
      "Epoch 2/2\n",
      " - 56s - loss: 0.8310\n",
      "Epoch 1/2\n",
      " - 10s - loss: 0.8182\n",
      "Epoch 2/2\n",
      " - 11s - loss: 0.8163\n",
      "Epoch 1/2\n",
      " - 32s - loss: 0.6338\n",
      "Epoch 2/2\n",
      " - 29s - loss: 0.5655\n",
      "      model trained and saved\n",
      "\n",
      "  Fitting on 20170810\n",
      "      vars. loaded\n",
      "          autoencoder trained\n",
      "          gradient boosting regression trained\n",
      "          bayesian ridge regression trained\n",
      "      pre-model phase completed\n"
     ]
    },
    {
     "name": "stdout",
     "output_type": "stream",
     "text": [
      "      training neural network - ALPHA (transfer learning)\n",
      "          un-freeze layers\n",
      "Epoch 1/8\n",
      " - 13s - loss: 1.6724 - dense_49_loss: 1.8425 - dense_50_loss: 1.2159\n",
      "Epoch 2/8\n",
      " - 7s - loss: 1.6603 - dense_49_loss: 1.8288 - dense_50_loss: 1.2105\n",
      "Epoch 3/8\n",
      " - 8s - loss: 1.6581 - dense_49_loss: 1.8262 - dense_50_loss: 1.2101\n",
      "Epoch 4/8\n",
      " - 10s - loss: 1.6583 - dense_49_loss: 1.8264 - dense_50_loss: 1.2100\n",
      "Epoch 5/8\n",
      " - 9s - loss: 1.6574 - dense_49_loss: 1.8253 - dense_50_loss: 1.2102\n",
      "Epoch 6/8\n",
      " - 10s - loss: 1.6562 - dense_49_loss: 1.8235 - dense_50_loss: 1.2104\n",
      "Epoch 7/8\n",
      " - 9s - loss: 1.6566 - dense_49_loss: 1.8240 - dense_50_loss: 1.2100\n",
      "Epoch 8/8\n",
      " - 9s - loss: 1.6574 - dense_49_loss: 1.8251 - dense_50_loss: 1.2099\n",
      "Epoch 1/2\n",
      " - 8s - loss: 1.6526 - dense_49_loss: 1.8195 - dense_50_loss: 1.2074\n",
      "Epoch 2/2\n",
      " - 8s - loss: 1.6534 - dense_49_loss: 1.8201 - dense_50_loss: 1.2075\n",
      "Epoch 1/2\n",
      " - 2s - loss: 1.5536 - dense_49_loss: 1.7111 - dense_50_loss: 1.1319\n",
      "Epoch 2/2\n",
      " - 2s - loss: 1.5525 - dense_49_loss: 1.7084 - dense_50_loss: 1.1336\n",
      "Epoch 1/2\n",
      " - 3s - loss: 1.6163 - dense_49_loss: 1.7701 - dense_50_loss: 1.1978\n",
      "Epoch 2/2\n",
      " - 3s - loss: 1.6621 - dense_49_loss: 1.8340 - dense_50_loss: 1.1845\n",
      "      training neural network - BETA (transfer learning)\n",
      "          un-freeze layers\n",
      "Epoch 1/8\n",
      " - 61s - loss: 0.9865\n",
      "Epoch 2/8\n",
      " - 55s - loss: 0.8550\n",
      "Epoch 3/8\n",
      " - 61s - loss: 0.8432\n",
      "Epoch 4/8\n",
      " - 54s - loss: 0.8371\n",
      "Epoch 5/8\n",
      " - 66s - loss: 0.8355\n",
      "Epoch 6/8\n",
      " - 61s - loss: 0.8344\n",
      "Epoch 7/8\n",
      " - 55s - loss: 0.8343\n",
      "Epoch 8/8\n",
      " - 54s - loss: 0.8344\n",
      "Epoch 1/2\n",
      " - 48s - loss: 0.8358\n",
      "Epoch 2/2\n",
      " - 50s - loss: 0.8349\n",
      "Epoch 1/2\n",
      " - 10s - loss: 0.8107\n",
      "Epoch 2/2\n",
      " - 12s - loss: 0.8162\n",
      "Epoch 1/2\n",
      " - 29s - loss: 0.5719\n",
      "Epoch 2/2\n",
      " - 27s - loss: 0.5296\n",
      "      model trained and saved\n",
      "\n",
      "  Fitting on 20180104\n",
      "      vars. loaded\n",
      "          autoencoder trained\n",
      "          gradient boosting regression trained\n",
      "          bayesian ridge regression trained\n",
      "      pre-model phase completed\n",
      "      training neural network - ALPHA (transfer learning)\n",
      "          freeze layers\n",
      "             conv1d_1\n",
      "             dense_8\n",
      "             dense_11\n",
      "Epoch 1/8\n",
      " - 16s - loss: 1.6405 - dense_56_loss: 1.8084 - dense_57_loss: 1.1965\n",
      "Epoch 2/8\n",
      " - 8s - loss: 1.6156 - dense_56_loss: 1.7847 - dense_57_loss: 1.1930\n",
      "Epoch 3/8\n",
      " - 8s - loss: 1.6114 - dense_56_loss: 1.7811 - dense_57_loss: 1.1923\n",
      "Epoch 4/8\n",
      " - 8s - loss: 1.6099 - dense_56_loss: 1.7795 - dense_57_loss: 1.1920\n",
      "Epoch 5/8\n",
      " - 9s - loss: 1.6089 - dense_56_loss: 1.7775 - dense_57_loss: 1.1924\n",
      "Epoch 6/8\n",
      " - 10s - loss: 1.6094 - dense_56_loss: 1.7791 - dense_57_loss: 1.1918\n",
      "Epoch 7/8\n",
      " - 10s - loss: 1.6092 - dense_56_loss: 1.7780 - dense_57_loss: 1.1921\n",
      "Epoch 8/8\n",
      " - 10s - loss: 1.6087 - dense_56_loss: 1.7778 - dense_57_loss: 1.1921\n",
      "Epoch 1/2\n",
      " - 9s - loss: 1.5235 - dense_56_loss: 1.6842 - dense_57_loss: 1.1270\n",
      "Epoch 2/2\n",
      " - 8s - loss: 1.5241 - dense_56_loss: 1.6838 - dense_57_loss: 1.1272\n",
      "Epoch 1/2\n",
      " - 2s - loss: 1.4607 - dense_56_loss: 1.6120 - dense_57_loss: 1.0853\n",
      "Epoch 2/2\n",
      " - 2s - loss: 1.4655 - dense_56_loss: 1.6179 - dense_57_loss: 1.0908\n",
      "Epoch 1/2\n",
      " - 4s - loss: 1.5774 - dense_56_loss: 1.7310 - dense_57_loss: 1.1647\n",
      "Epoch 2/2\n",
      " - 4s - loss: 1.6635 - dense_56_loss: 1.8446 - dense_57_loss: 1.1430\n",
      "      training neural network - BETA (transfer learning)\n",
      "          freeze layers\n",
      "             conv2d_1\n",
      "             dense_17\n",
      "             dense_20\n",
      "Epoch 1/8\n",
      " - 71s - loss: 0.8401\n",
      "Epoch 2/8\n",
      " - 59s - loss: 0.8344\n",
      "Epoch 3/8\n",
      " - 59s - loss: 0.8328\n",
      "Epoch 4/8\n",
      " - 62s - loss: 0.8329\n",
      "Epoch 5/8\n",
      " - 60s - loss: 0.8330\n",
      "Epoch 6/8\n",
      " - 56s - loss: 0.8328\n",
      "Epoch 7/8\n",
      " - 59s - loss: 0.8320\n",
      "Epoch 8/8\n",
      " - 59s - loss: 0.8319\n",
      "Epoch 1/2\n",
      " - 55s - loss: 0.8323\n",
      "Epoch 2/2\n",
      " - 56s - loss: 0.8322\n",
      "Epoch 1/2\n",
      " - 11s - loss: 0.8130\n",
      "Epoch 2/2\n",
      " - 10s - loss: 0.8130\n",
      "Epoch 1/2\n",
      " - 34s - loss: 0.6055\n",
      "Epoch 2/2\n",
      " - 30s - loss: 0.5381\n",
      "      model trained and saved\n",
      "\n",
      "Fit completed\n",
      "\n",
      "Prediction started\n",
      "  refit day: 1510\n",
      "  refit day: 1611\n",
      "  refit day: 1712\n",
      "  refit day: 1813\n",
      "  refit day: 1914\n",
      "  refit day: 2015\n",
      "Predictions completed\n"
     ]
    }
   ],
   "source": [
    "# Fit the model.\n",
    "# : input: data object and alphas.\n",
    "# : return: predicted positions matrix\n",
    "# : store: save predictions to disk.\n",
    "positions_strategy = Fit().run_model()"
   ]
  },
  {
   "cell_type": "markdown",
   "metadata": {},
   "source": [
    "## Simulation"
   ]
  },
  {
   "cell_type": "markdown",
   "metadata": {},
   "source": [
    "__Brief description:__\n",
    "* PnL modeling on day to day basis."
   ]
  },
  {
   "cell_type": "markdown",
   "metadata": {},
   "source": [
    "__Prepare data:__\n",
    "* Balancing long-short positions.\n",
    "* Slowing down trading applying basic smoothing.\n",
    "* Industry neutralization.\n",
    "* Selecting N best stocks in both directions.\n",
    "* Selecting only long positions."
   ]
  },
  {
   "cell_type": "markdown",
   "metadata": {},
   "source": [
    "__Details:__\n",
    "* Commissions: Interactive Brokers."
   ]
  },
  {
   "cell_type": "code",
   "execution_count": 6,
   "metadata": {},
   "outputs": [],
   "source": [
    "# Load positions matrix.\n",
    "# positions_strategy = joblib.load('data/pp_data/positions/positions.pickle')"
   ]
  },
  {
   "cell_type": "code",
   "execution_count": 6,
   "metadata": {},
   "outputs": [
    {
     "name": "stdout",
     "output_type": "stream",
     "text": [
      "\n",
      "Simulation started:\n",
      "  simulation completed\n"
     ]
    }
   ],
   "source": [
    "# Run simulation\n",
    "# : input: predicted positions matrix\n",
    "# : return: sim object\n",
    "# : store: -\n",
    "strategy = Simulation(positions_strategy).run_simulation()"
   ]
  },
  {
   "cell_type": "markdown",
   "metadata": {},
   "source": [
    "## Evaluation"
   ]
  },
  {
   "cell_type": "markdown",
   "metadata": {},
   "source": [
    "__Brief description:__\n",
    "* Show results and basic performance metrics compared to SP500."
   ]
  },
  {
   "cell_type": "code",
   "execution_count": 7,
   "metadata": {},
   "outputs": [
    {
     "name": "stdout",
     "output_type": "stream",
     "text": [
      "\n",
      "Evaluation started:\n",
      "  report saved\n",
      "  evaluation completed\n"
     ]
    },
    {
     "data": {
      "image/png": "[encoded data removed]",
      "text/plain": [
       "<matplotlib.figure.Figure at 0x26501579dd8>"
      ]
     },
     "metadata": {},
     "output_type": "display_data"
    }
   ],
   "source": [
    "# Show strategy performance.\n",
    "# : input: sim object.\n",
    "# : return: plot results\n",
    "# : store: save report.xlsx (data/pp_data/sim_res/)\n",
    "Evaluation(strategy).run_evaluation(save_report=True)"
   ]
  }
 ],
 "metadata": {
  "kernelspec": {
   "display_name": "Python 3",
   "language": "python",
   "name": "python3"
  },
  "language_info": {
   "codemirror_mode": {
    "name": "ipython",
    "version": 3
   },
   "file_extension": ".py",
   "mimetype": "text/x-python",
   "name": "python",
   "nbconvert_exporter": "python",
   "pygments_lexer": "ipython3",
   "version": "3.6.4"
  }
 },
 "nbformat": 4,
 "nbformat_minor": 2
}
